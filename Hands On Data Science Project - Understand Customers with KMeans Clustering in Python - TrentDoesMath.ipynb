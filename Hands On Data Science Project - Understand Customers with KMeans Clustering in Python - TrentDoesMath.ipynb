{
 "cells": [
  {
   "cell_type": "markdown",
   "id": "51dbb467-cf1e-4ca1-ac68-50aac19c5000",
   "metadata": {},
   "source": [
    "A comprehensive analysis of customer data using python, we'll dive into Data Exploration, Cleaning, Feature engineering, applying K-Means Clustering and ultimately generating insights based on outputs. We'll focus on 3 key features those being:\n",
    "- Recency, how many days since client made a purchase\n",
    "- Frequency, how many total purchases has client made in data set\n",
    "- Monetary value, sum total monetary contribution of each client in dataset\n",
    "This is referred as RFM analysis. Why use k-means clustering? It's a powerful unsupervised ML algorithm that helps us uncover pattern in our data. Unsupervised meaning that algorithm doesn't train on known data to predict or infer on new data. It instead aims to discover pattern in existing data and gives us someintuition.\n",
    "We might know about Importance Matrix in time management, where tasks are grouped into categories like do delegate remove and plan these groupings based on 2 features urgency and importance. Similarly, K-means helps us cluster our data into meaninful groups allowing us to derive actionable insights.  Additionally, when analyzing large datasets clusterig and categorization can help us overcome overwhelm by suggesting actions strategies or clear next steps for further analysis. In summary, we'll apply K Means to customer data using the features of rfm to better understand customer behaviour. Our goal is to help online retailer better understand their customers.\n",
    "\n",
    "We'll jump to EDA where we get to know our data and determine necessary cleaning steps to prepare data for feature engineering."
   ]
  },
  {
   "cell_type": "code",
   "execution_count": null,
   "id": "eeb1092e-80c1-4d52-8de6-c1708425b9e5",
   "metadata": {},
   "outputs": [],
   "source": []
  }
 ],
 "metadata": {
  "kernelspec": {
   "display_name": "Python 3 (ipykernel)",
   "language": "python",
   "name": "python3"
  },
  "language_info": {
   "codemirror_mode": {
    "name": "ipython",
    "version": 3
   },
   "file_extension": ".py",
   "mimetype": "text/x-python",
   "name": "python",
   "nbconvert_exporter": "python",
   "pygments_lexer": "ipython3",
   "version": "3.12.4"
  }
 },
 "nbformat": 4,
 "nbformat_minor": 5
}
